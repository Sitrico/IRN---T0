{
 "cells": [
  {
   "cell_type": "markdown",
   "metadata": {},
   "source": [
    "# Parte 1"
   ]
  },
  {
   "cell_type": "markdown",
   "metadata": {},
   "source": [
    "Nota: Después de mucho investigar y estudiar el algoritmo de backpropagation e intentar implementarlo me fue imposible llegar a una solución satisfactoria, obteniendo matrices con valores NaN. Por lo cual me base en el código que se muestra en este enlace, modificandolo de manera tal que se adapte a lo pedido en el problema."
   ]
  },
  {
   "cell_type": "code",
   "execution_count": 17,
   "metadata": {
    "collapsed": false
   },
   "outputs": [],
   "source": [
    "from sklearn.preprocessing import StandardScaler\n",
    "from sklearn.datasets import load_iris\n",
    "X_train,y_train = load_iris(return_X_y=True)\n",
    "scaler = StandardScaler().fit(X_train)\n",
    "X_train = scaler.transform(X_train)\n",
    "#transform target to one hot vector\n",
    "import keras\n",
    "y_onehot = keras.utils.to_categorical(y_train)"
   ]
  },
  {
   "cell_type": "code",
   "execution_count": 136,
   "metadata": {
    "collapsed": false
   },
   "outputs": [],
   "source": [
    "training_data = X_train\n",
    "training_labels = y_onehot\n",
    "\n",
    "hidden_nodes = 32\n",
    "num_labels = training_labels.shape[1]\n",
    "num_features = training_data.shape[1]\n",
    "learning_rate = .01\n",
    "reg_lambda = .01\n",
    "\n",
    "# Weights and Bias Arrays, just like in Tensorflow\n",
    "layer1_weights_array = np.random.normal(0, 1, [num_features, hidden_nodes]) \n",
    "layer2_weights_array = np.random.normal(0, 1, [hidden_nodes, 16])\n",
    "layer3_weights_array = np.random.normal(0, 1, [16, num_labels])\n",
    "\n",
    "layer1_biases_array = np.zeros((1, hidden_nodes))\n",
    "layer2_biases_array = np.zeros((1, 16))\n",
    "layer3_biases_array = np.zeros((1, num_labels))\n",
    "\n",
    "def relu_activation(data_array):\n",
    "    return np.maximum(data_array, 0)\n",
    "def softmax(output_array):\n",
    "    logits_exp = np.exp(output_array)\n",
    "    return logits_exp / np.sum(logits_exp, axis = 1, keepdims = True)\n",
    "def cross_entropy_softmax_loss_array(softmax_probs_array, y_onehot):\n",
    "    indices = np.argmax(y_onehot, axis = 1).astype(int)\n",
    "    predicted_probability = softmax_probs_array[np.arange(len(softmax_probs_array)), indices]\n",
    "    log_preds = np.log(predicted_probability)\n",
    "    loss = -1.0 * np.sum(log_preds) / len(log_preds)\n",
    "    return loss\n",
    "def regularization_L2_softmax_loss(reg_lambda, weight1, weight2, weight3):\n",
    "    weight1_loss = 0.5 * reg_lambda * np.sum(weight1 * weight1)\n",
    "    weight2_loss = 0.5 * reg_lambda * np.sum(weight2 * weight2)\n",
    "    weight3_loss = 0.5 * reg_lambda * np.sum(weight3 * weight3)\n",
    "    return weight1_loss + weight2_loss + weight3_loss\n",
    "\n",
    "loss_list = list()\n",
    "step_list = list()\n",
    "\n",
    "for step in range(5001):\n",
    "\n",
    "    input_layer = np.dot(training_data, layer1_weights_array)\n",
    "    hidden_layer1 = relu_activation(input_layer + layer1_biases_array)\n",
    "    hidden_layer2 = relu_activation(np.dot(hidden_layer1, layer2_weights_array) + layer2_biases_array)\n",
    "    output_layer = np.dot(hidden_layer2, layer3_weights_array) + layer3_biases_array\n",
    "    output_probs = softmax(output_layer)\n",
    "    \n",
    "    loss = cross_entropy_softmax_loss_array(output_probs, training_labels)\n",
    "    loss += regularization_L2_softmax_loss(reg_lambda, layer1_weights_array, layer2_weights_array, layer3_weights_array)\n",
    "\n",
    "    output_error_signal = (output_probs - training_labels) / output_probs.shape[0]\n",
    "    \n",
    "    error_signal_hidden2 = np.dot(output_error_signal, layer3_weights_array.T) \n",
    "    error_signal_hidden2[hidden_layer2 <= 0] = 0\n",
    "    \n",
    "    error_signal_hidden1 = np.dot(error_signal_hidden2, layer2_weights_array.T) \n",
    "    error_signal_hidden1[hidden_layer1 <= 0] = 0\n",
    "    \n",
    "    gradient_layer3_weights = np.dot(hidden_layer2.T, output_error_signal)\n",
    "    gradient_layer3_bias = np.sum(output_error_signal, axis = 0, keepdims = True)\n",
    "    \n",
    "    gradient_layer2_weights = np.dot(hidden_layer1.T, error_signal_hidden2)\n",
    "    gradient_layer2_bias = np.sum(error_signal_hidden2, axis = 0, keepdims = True)\n",
    "    \n",
    "    gradient_layer1_weights = np.dot(training_data.T, error_signal_hidden1)\n",
    "    gradient_layer1_bias = np.sum(error_signal_hidden1, axis = 0, keepdims = True)\n",
    "\n",
    "    gradient_layer3_weights += reg_lambda * layer3_weights_array\n",
    "    gradient_layer2_weights += reg_lambda * layer2_weights_array\n",
    "    gradient_layer1_weights += reg_lambda * layer1_weights_array\n",
    "\n",
    "    layer1_weights_array -= learning_rate * gradient_layer1_weights\n",
    "    layer1_biases_array -= learning_rate * gradient_layer1_bias\n",
    "    layer2_weights_array -= learning_rate * gradient_layer2_weights\n",
    "    layer2_biases_array -= learning_rate * gradient_layer2_bias\n",
    "    layer3_weights_array -= learning_rate * gradient_layer3_weights\n",
    "    layer3_biases_array -= learning_rate * gradient_layer3_bias\n",
    "   \n",
    "    if step % 500 == 0:\n",
    "            loss_list.append(loss)\n",
    "            step_list.append(step)"
   ]
  },
  {
   "cell_type": "code",
   "execution_count": 140,
   "metadata": {
    "collapsed": false
   },
   "outputs": [
    {
     "data": {
      "image/png": "[encoded data removed]",
      "text/plain": [
       "<matplotlib.figure.Figure at 0x19222cf8>"
      ]
     },
     "metadata": {},
     "output_type": "display_data"
    }
   ],
   "source": [
    "import matplotlib.pyplot as plt\n",
    "\n",
    "fig = plt.figure(figsize = (12,3))\n",
    "plt.plot(step_list, loss_list, '-')\n",
    "plt.xlabel('Epoch')\n",
    "plt.ylabel('Loss')\n",
    "plt.title('Epoch vs loss')\n",
    "plt.show()"
   ]
  },
  {
   "cell_type": "markdown",
   "metadata": {},
   "source": [
    "Para la red neuronal se usan 4 neuronas para el input, con 2 capas ocultas con 32 y 16 neuronas para la primera y segunda respectivamente, ambas con activación relu. La capa del output tiene una activación softmax con 3 salidas. Para abordar el problema de backpropagation se usa una función de perdida de cross entropy.\n",
    "\n",
    "Como se puede apreciar en el grafico más arriba la red neuronal al ser entrenada, disminuye el valor para la función de perdida, es decir, se entrena de buena forma. Se puede ver que en un principio se consigue una gran disminución para luego ser más pausada, las primeras veces que se entrenó bastó para darle una buena forma a la red y que está pueda predecir de buena forma casos futuros, pero se puede apreciar que hasta el último momento logró disminuir la loss function, es decir, se entrenó hasta el último ciclo como ya se dijo. Se debe tener cuidado con sobre entrenar la red, ya que se producirá overfitting y se perderá la capacidad para que la red pueda predecir de buena manera casos futuros."
   ]
  }
 ],
 "metadata": {
  "kernelspec": {
   "display_name": "Python 3",
   "language": "python",
   "name": "python3"
  },
  "language_info": {
   "codemirror_mode": {
    "name": "ipython",
    "version": 3
   },
   "file_extension": ".py",
   "mimetype": "text/x-python",
   "name": "python",
   "nbconvert_exporter": "python",
   "pygments_lexer": "ipython3",
   "version": "3.6.0"
  }
 },
 "nbformat": 4,
 "nbformat_minor": 2
}
