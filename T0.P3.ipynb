{
 "cells": [
  {
   "cell_type": "markdown",
   "metadata": {},
   "source": [
    "# Parte 3"
   ]
  },
  {
   "cell_type": "markdown",
   "metadata": {},
   "source": [
    "En esta parte por simplicidad se usa un enfoque diferente al propuesto y se construye un modelo que tiene una neurona de entrada, una de salida y un peso W que las conecta. Para la salida se usa como función de activación la función sigmoide y función de perdida MSE, se especifica un poco más del modelo en la imagen adjunta en el repo."
   ]
  },
  {
   "cell_type": "code",
   "execution_count": 59,
   "metadata": {
    "collapsed": false
   },
   "outputs": [],
   "source": [
    "import numpy as np\n",
    "import pandas as pd\n",
    "\n",
    "def L_prima(w, x, y):\n",
    "    z = w*x\n",
    "    aux = (z - y)\n",
    "    aux2 = np.exp(z)/(np.exp(z)+1)**2\n",
    "    return 2 * aux * aux2 * w\n",
    "\n",
    "def loss(y, x, w):\n",
    "    return (1/2)*(y-w*x)**2\n",
    "\n",
    "def lim_loss(y, x, w, e):\n",
    "    return (loss(y, x, w+e) - loss(y, x, w))/e"
   ]
  },
  {
   "cell_type": "code",
   "execution_count": 60,
   "metadata": {
    "collapsed": false
   },
   "outputs": [
    {
     "name": "stdout",
     "output_type": "stream",
     "text": [
      "-0.0705011136605\n",
      "-0.29976021664879227\n"
     ]
    }
   ],
   "source": [
    "w = 0.5\n",
    "x = 1\n",
    "y = 1\n",
    "\n",
    "print(L_prima(w, x, y))\n",
    "print(lim_loss(y, x, w, 0.00000000000001))"
   ]
  },
  {
   "cell_type": "code",
   "execution_count": 71,
   "metadata": {
    "collapsed": false
   },
   "outputs": [
    {
     "data": {
      "text/html": [
       "<div>\n",
       "<table border=\"1\" class=\"dataframe\">\n",
       "  <thead>\n",
       "    <tr style=\"text-align: right;\">\n",
       "      <th></th>\n",
       "      <th>0</th>\n",
       "      <th>1</th>\n",
       "      <th>2</th>\n",
       "      <th>3</th>\n",
       "      <th>4</th>\n",
       "      <th>5</th>\n",
       "      <th>6</th>\n",
       "      <th>7</th>\n",
       "    </tr>\n",
       "  </thead>\n",
       "  <tbody>\n",
       "    <tr>\n",
       "      <th>0</th>\n",
       "      <td>-0.034913</td>\n",
       "      <td>-0.070501</td>\n",
       "      <td>-0.070501</td>\n",
       "      <td>0.000000e+00</td>\n",
       "      <td>0.078645</td>\n",
       "      <td>1.680441e-08</td>\n",
       "      <td>7.380631e-40</td>\n",
       "      <td>0.000002</td>\n",
       "    </tr>\n",
       "    <tr>\n",
       "      <th>1</th>\n",
       "      <td>-0.700000</td>\n",
       "      <td>-0.300000</td>\n",
       "      <td>-0.300000</td>\n",
       "      <td>5.000000e-09</td>\n",
       "      <td>0.200000</td>\n",
       "      <td>2.420000e+01</td>\n",
       "      <td>9.919986e+01</td>\n",
       "      <td>19.200002</td>\n",
       "    </tr>\n",
       "  </tbody>\n",
       "</table>\n",
       "</div>"
      ],
      "text/plain": [
       "          0         1         2             3         4             5  \\\n",
       "0 -0.034913 -0.070501 -0.070501  0.000000e+00  0.078645  1.680441e-08   \n",
       "1 -0.700000 -0.300000 -0.300000  5.000000e-09  0.200000  2.420000e+01   \n",
       "\n",
       "              6          7  \n",
       "0  7.380631e-40   0.000002  \n",
       "1  9.919986e+01  19.200002  "
      ]
     },
     "metadata": {},
     "output_type": "display_data"
    }
   ],
   "source": [
    "ws2 = [0.1, 0.5, 1, 5, 10, 100]\n",
    "\n",
    "ls = list()\n",
    "lims = list()\n",
    "\n",
    "for i in range(len(ws)):\n",
    "    ls.append(L_prima(ws[i], x, y))\n",
    "    lims.append(lim_loss(y, x, ws[i], 0.00000001))\n",
    "    \n",
    "df = pd.DataFrame([ls, lims])\n",
    "from IPython.core.display import display\n",
    "display(df)"
   ]
  },
  {
   "cell_type": "code",
   "execution_count": 72,
   "metadata": {
    "collapsed": false
   },
   "outputs": [
    {
     "data": {
      "text/html": [
       "<div>\n",
       "<table border=\"1\" class=\"dataframe\">\n",
       "  <thead>\n",
       "    <tr style=\"text-align: right;\">\n",
       "      <th></th>\n",
       "      <th>0</th>\n",
       "      <th>1</th>\n",
       "      <th>2</th>\n",
       "      <th>3</th>\n",
       "      <th>4</th>\n",
       "      <th>5</th>\n",
       "      <th>6</th>\n",
       "      <th>7</th>\n",
       "    </tr>\n",
       "  </thead>\n",
       "  <tbody>\n",
       "    <tr>\n",
       "      <th>0</th>\n",
       "      <td>0.000000e+00</td>\n",
       "      <td>0.000000e+00</td>\n",
       "      <td>-0.070501</td>\n",
       "      <td>-0.068451</td>\n",
       "      <td>-0.393224</td>\n",
       "      <td>-3.471986e-09</td>\n",
       "      <td>3.720076e-40</td>\n",
       "      <td>-0.000002</td>\n",
       "    </tr>\n",
       "    <tr>\n",
       "      <th>1</th>\n",
       "      <td>5.000000e-09</td>\n",
       "      <td>5.000000e-09</td>\n",
       "      <td>-0.300000</td>\n",
       "      <td>-0.200000</td>\n",
       "      <td>-1.000000</td>\n",
       "      <td>-5.000000e+00</td>\n",
       "      <td>4.999997e+01</td>\n",
       "      <td>-30.000001</td>\n",
       "    </tr>\n",
       "  </tbody>\n",
       "</table>\n",
       "</div>"
      ],
      "text/plain": [
       "              0             1         2         3         4             5  \\\n",
       "0  0.000000e+00  0.000000e+00 -0.070501 -0.068451 -0.393224 -3.471986e-09   \n",
       "1  5.000000e-09  5.000000e-09 -0.300000 -0.200000 -1.000000 -5.000000e+00   \n",
       "\n",
       "              6          7  \n",
       "0  3.720076e-40  -0.000002  \n",
       "1  4.999997e+01 -30.000001  "
      ]
     },
     "metadata": {},
     "output_type": "display_data"
    }
   ],
   "source": [
    "ws = [0.1, 0.5, 0.5, 0.8, 1, 25, 100, 20]\n",
    "ys = [0.1, 0.5, 0.8, 1, 2, 30, 50, 50]\n",
    "\n",
    "ls = list()\n",
    "lims = list()\n",
    "\n",
    "for i in range(len(ws)):\n",
    "    ls.append(L_prima(ws[i], x, ys[i]))\n",
    "    lims.append(lim_loss(ys[i], x, ws[i], 0.00000001))\n",
    "    \n",
    "df = pd.DataFrame([ls, lims])\n",
    "from IPython.core.display import display\n",
    "display(df)"
   ]
  },
  {
   "cell_type": "markdown",
   "metadata": {},
   "source": [
    "Para comprobar lo expuesto en la pregunta se usan diferentes combinaciones de pesos, entradas y salidas, primeramente se deja  entrada y salida fija, cambiando el valor del peso W, se puede apreciar que si bien los valores entregados para la derivada analitica y la definción de gradiente con el límite se parecen tampoco se puede decir que son iguales, cuando digo que se parecen es porque tienen un orden de magnitud cercano. Después se hace lo mismo pero además se varia el valor de la salida, observado los resultados para ambos ejercicios enunciados se puede notar que:\n",
    "\n",
    "* Si bien se dijo que los pesos tieneden a parecerse, estos no son iguales.\n",
    "* El importante destacar la equivalencia del signo, en esto si que son comparables y es que para cada uno de los casos, el resultado arrojado por una u otra opción poseen el mismo signo.\n",
    "* Por último decir que entre más alejado se encuentra el resultado predicho del original más difieron los resultados, en cambio cuando se encuentra cerca del valor correcto los valores tienden a parecerse más"
   ]
  }
 ],
 "metadata": {
  "kernelspec": {
   "display_name": "Python 3",
   "language": "python",
   "name": "python3"
  },
  "language_info": {
   "codemirror_mode": {
    "name": "ipython",
    "version": 3
   },
   "file_extension": ".py",
   "mimetype": "text/x-python",
   "name": "python",
   "nbconvert_exporter": "python",
   "pygments_lexer": "ipython3",
   "version": "3.6.0"
  }
 },
 "nbformat": 4,
 "nbformat_minor": 2
}
